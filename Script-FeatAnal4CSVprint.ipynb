{
 "cells": [
  {
   "cell_type": "code",
   "execution_count": 1,
   "metadata": {
    "collapsed": false
   },
   "outputs": [],
   "source": [
    "import scipy\n",
    "import numpy as np\n",
    "import matplotlib.pyplot as plt\n",
    "import essentia\n",
    "import json\n",
    "import glob\n",
    "import gzip\n",
    "import bz2\n",
    "import csv"
   ]
  },
  {
   "cell_type": "code",
   "execution_count": 2,
   "metadata": {
    "collapsed": false
   },
   "outputs": [],
   "source": [
    "import pandas as pd\n",
    "import seaborn as sns"
   ]
  },
  {
   "cell_type": "code",
   "execution_count": 3,
   "metadata": {
    "collapsed": true
   },
   "outputs": [],
   "source": [
    "import essentia.standard as estd\n",
    "import essentia.streaming as estr"
   ]
  },
  {
   "cell_type": "code",
   "execution_count": 4,
   "metadata": {
    "collapsed": false
   },
   "outputs": [],
   "source": [
    "json.data = []\n",
    "feat = []"
   ]
  },
  {
   "cell_type": "code",
   "execution_count": 5,
   "metadata": {
    "collapsed": false
   },
   "outputs": [
    {
     "data": {
      "text/plain": [
       "[]"
      ]
     },
     "execution_count": 5,
     "metadata": {},
     "output_type": "execute_result"
    }
   ],
   "source": [
    "feat"
   ]
  },
  {
   "cell_type": "code",
   "execution_count": 6,
   "metadata": {
    "collapsed": false
   },
   "outputs": [],
   "source": [
    "#def total_area_bz2('./acousticbrainz-2015-01-selected-features.csv.bz2'):\n",
    "#    with bz2.BZ2File('./acousticbrainz-2015-01-selected-features.csv.bz2') as f\n",
    "#        return sum_area(f)\n",
    "\n",
    "#input_file = bz2.BZ2File('./acousticbrainz-2015-01-selected-features.csv.bz2', 'rb')\n",
    "#try:\n",
    "#    print input_file.read()\n",
    "#finally:\n",
    "#    input_file.close()"
   ]
  },
  {
   "cell_type": "code",
   "execution_count": 7,
   "metadata": {
    "collapsed": false
   },
   "outputs": [],
   "source": [
    "#LOAD DESCRIPTORS DB\n",
    "\n",
    "#for filename in glob.glob('./testDB/*.json'):\n",
    "#    json.data.append(open(filename).read())\n",
    "\n",
    "with open(\"./testDB/last_fm.csv\", \"rb\") as f:\n",
    "    line=[line.split() for line in f]  "
   ]
  },
  {
   "cell_type": "code",
   "execution_count": 8,
   "metadata": {
    "collapsed": false
   },
   "outputs": [],
   "source": [
    "#CorLine = np.chararray(6301*348).reshape(6301, 348)\n"
   ]
  },
  {
   "cell_type": "code",
   "execution_count": 9,
   "metadata": {
    "collapsed": false
   },
   "outputs": [],
   "source": [
    "#for i in range (0,len(line)-1):\n",
    "#    CorLine[i] = str(line[i]).split(',')\n",
    "CorList = []\n",
    "\n",
    "for i in range (0,6301):\n",
    "    CorLine = []\n",
    "    CorLine.append(str(line[i]).split(','))\n",
    "    CorList.append(str(CorLine[0]).split(','))"
   ]
  },
  {
   "cell_type": "code",
   "execution_count": 10,
   "metadata": {
    "collapsed": false
   },
   "outputs": [
    {
     "data": {
      "text/plain": [
       "'12.87817478'"
      ]
     },
     "execution_count": 10,
     "metadata": {},
     "output_type": "execute_result"
    }
   ],
   "source": [
    "A =CorList[2][2][2:len(CorList[7][25])-1]\n",
    "A"
   ]
  },
  {
   "cell_type": "code",
   "execution_count": 11,
   "metadata": {
    "collapsed": false
   },
   "outputs": [],
   "source": [
    "AsianList = []\n",
    "for i in range(1,451):\n",
    "    for j in range(2,270):\n",
    "        AsianList.append(CorList[i][j][2:len(CorList[i][j])-1])"
   ]
  },
  {
   "cell_type": "code",
   "execution_count": 12,
   "metadata": {
    "collapsed": true
   },
   "outputs": [],
   "source": [
    "BluesList = []\n",
    "for i in range(451,901):\n",
    "    for j in range(2,270):\n",
    "        BluesList.append(CorList[i][j][2:len(CorList[i][j])-1])"
   ]
  },
  {
   "cell_type": "code",
   "execution_count": 22,
   "metadata": {
    "collapsed": true
   },
   "outputs": [],
   "source": [
    "ClassicalList = []\n",
    "for i in range(901,1351):\n",
    "    for j in range(2,270):\n",
    "        ClassicalList.append(CorList[i][j][2:len(CorList[i][j])-1])"
   ]
  },
  {
   "cell_type": "code",
   "execution_count": 56,
   "metadata": {
    "collapsed": true
   },
   "outputs": [],
   "source": [
    "ClatinamerList = []\n",
    "for i in range(1351,1801):\n",
    "    for j in range(2,270):\n",
    "        ClatinamerList.append(CorList[i][j][2:len(CorList[i][j])-1])"
   ]
  },
  {
   "cell_type": "code",
   "execution_count": 84,
   "metadata": {
    "collapsed": true
   },
   "outputs": [],
   "source": [
    "CountryList = []\n",
    "for i in range(1801,2251):\n",
    "    for j in range(2,270):\n",
    "        CountryList.append(CorList[i][j][2:len(CorList[i][j])-1])"
   ]
  },
  {
   "cell_type": "code",
   "execution_count": 83,
   "metadata": {
    "collapsed": true
   },
   "outputs": [],
   "source": [
    "EasyList = []\n",
    "for i in range(2251,2701):\n",
    "    for j in range(2,270):\n",
    "        EasyList.append(CorList[i][j][2:len(CorList[i][j])-1])"
   ]
  },
  {
   "cell_type": "code",
   "execution_count": 92,
   "metadata": {
    "collapsed": true
   },
   "outputs": [],
   "source": [
    "ElectronicList = []\n",
    "for i in range(2701,3151):\n",
    "    for j in range(2,270):\n",
    "        ElectronicList.append(CorList[i][j][2:len(CorList[i][j])-1])"
   ]
  },
  {
   "cell_type": "code",
   "execution_count": 93,
   "metadata": {
    "collapsed": true
   },
   "outputs": [],
   "source": [
    "FolkList = []\n",
    "for i in range(3151,3601):\n",
    "    for j in range(2,270):\n",
    "        FolkList.append(CorList[i][j][2:len(CorList[i][j])-1])"
   ]
  },
  {
   "cell_type": "code",
   "execution_count": 97,
   "metadata": {
    "collapsed": true
   },
   "outputs": [],
   "source": [
    "HiphopList = []\n",
    "for i in range(3601,4051):\n",
    "    for j in range(2,270):\n",
    "        HiphopList.append(CorList[i][j][2:len(CorList[i][j])-1])"
   ]
  },
  {
   "cell_type": "code",
   "execution_count": 98,
   "metadata": {
    "collapsed": true
   },
   "outputs": [],
   "source": [
    "JazzList = []\n",
    "for i in range(4051,4501):\n",
    "    for j in range(2,270):\n",
    "        JazzList.append(CorList[i][j][2:len(CorList[i][j])-1])"
   ]
  },
  {
   "cell_type": "code",
   "execution_count": 99,
   "metadata": {
    "collapsed": true
   },
   "outputs": [],
   "source": [
    "PopList = []\n",
    "for i in range(4501,4951):\n",
    "    for j in range(2,270):\n",
    "        PopList.append(CorList[i][j][2:len(CorList[i][j])-1])"
   ]
  },
  {
   "cell_type": "code",
   "execution_count": 100,
   "metadata": {
    "collapsed": true
   },
   "outputs": [],
   "source": [
    "RnbList = []\n",
    "for i in range(4951,5401):\n",
    "    for j in range(2,270):\n",
    "        RnbList.append(CorList[i][j][2:len(CorList[i][j])-1])"
   ]
  },
  {
   "cell_type": "code",
   "execution_count": 101,
   "metadata": {
    "collapsed": true
   },
   "outputs": [],
   "source": [
    "RockList = []\n",
    "for i in range(5401,5851):\n",
    "    for j in range(2,270):\n",
    "        RockList.append(CorList[i][j][2:len(CorList[i][j])-1])"
   ]
  },
  {
   "cell_type": "code",
   "execution_count": 102,
   "metadata": {
    "collapsed": true
   },
   "outputs": [],
   "source": [
    "SkaList = []\n",
    "for i in range(5851,6301):\n",
    "    for j in range(2,270):\n",
    "        SkaList.append(CorList[i][j][2:len(CorList[i][j])-1])"
   ]
  },
  {
   "cell_type": "code",
   "execution_count": 73,
   "metadata": {
    "collapsed": false
   },
   "outputs": [
    {
     "data": {
      "text/plain": [
       "120600"
      ]
     },
     "execution_count": 73,
     "metadata": {},
     "output_type": "execute_result"
    }
   ],
   "source": [
    "len(AsianList)"
   ]
  },
  {
   "cell_type": "code",
   "execution_count": 106,
   "metadata": {
    "collapsed": false
   },
   "outputs": [],
   "source": [
    "Asian = np.zeros([450,268])\n",
    "Blues = np.zeros([450,268])\n",
    "Classical = np.zeros([450,268])\n",
    "Clatinamer = np.zeros([450,268])\n",
    "Country =  np.zeros([450,268])\n",
    "Easy = np.zeros([450,268])\n",
    "Electronic = np.zeros([450,268])\n",
    "Folk = np.zeros([450,268])\n",
    "Hiphop = np.zeros([450,268])\n",
    "Jazz = np.zeros([450,268])\n",
    "Pop = np.zeros([450,268])\n",
    "Rnb = np.zeros([450,268])\n",
    "Rock = np.zeros([450,268])\n",
    "Ska = np.zeros([450,268])\n"
   ]
  },
  {
   "cell_type": "code",
   "execution_count": 107,
   "metadata": {
    "collapsed": false
   },
   "outputs": [],
   "source": [
    "k = 0\n",
    "for i in range (0,450):\n",
    "    for j in range (0,268):\n",
    "        Asian[i][j] = AsianList[k]\n",
    "        Blues[i][j] = BluesList[k]\n",
    "        Classical[i][j] = ClassicalList[k]\n",
    "        Clatinamer[i][j] = ClatinamerList[k]\n",
    "        Country[i][j] = CountryList[k]\n",
    "        Easy[i][j] = EasyList[k]\n",
    "        Electronic[i][j] = ElectronicList[k]\n",
    "        Folk[i][j] = FolkList[k]\n",
    "        Hiphop[i][j] = HiphopList[k]\n",
    "        Jazz[i][j] = JazzList[k]\n",
    "        Pop[i][j] = PopList[k]\n",
    "        Rnb[i][j] = RnbList[k]\n",
    "        Rock[i][j] = RockList[k]\n",
    "        Ska[i][j] = SkaList[k]\n",
    "        k = k+1\n",
    "    "
   ]
  },
  {
   "cell_type": "code",
   "execution_count": 60,
   "metadata": {
    "collapsed": false
   },
   "outputs": [
    {
     "data": {
      "text/plain": [
       "11.6349382401"
      ]
     },
     "execution_count": 60,
     "metadata": {},
     "output_type": "execute_result"
    }
   ],
   "source": [
    "Asian[449][267]"
   ]
  },
  {
   "cell_type": "code",
   "execution_count": 108,
   "metadata": {
    "collapsed": false
   },
   "outputs": [],
   "source": [
    "FeatAsian = np.zeros(len(Asian))\n",
    "FeatBlues = np.zeros(len(Blues))\n",
    "FeatClassical = np.zeros(len(Classical))\n",
    "FeatClatinamer = np.zeros(len(Clatinamer))\n",
    "FeatCountry = np.zeros(len(Country))\n",
    "FeatEasy = np.zeros(len(Easy))\n",
    "FeatElectronic = np.zeros(len(Electronic))\n",
    "FeatFolk = np.zeros(len(Folk))\n",
    "FeatHiphop = np.zeros(len(Hiphop))\n",
    "FeatJazz = np.zeros(len(Jazz))\n",
    "FeatPop = np.zeros(len(Pop))\n",
    "FeatRnb = np.zeros(len(Rnb))\n",
    "FeatRock = np.zeros(len(Rock))\n",
    "FeatSka = np.zeros(len(Ska))"
   ]
  },
  {
   "cell_type": "code",
   "execution_count": 213,
   "metadata": {
    "collapsed": false
   },
   "outputs": [],
   "source": [
    "numFeat = 216\n",
    "for i in range(0,len(FeatA)):\n",
    "    FeatAsian[i] = Asian[i][numFeat]\n",
    "    FeatBlues[i] = Blues[i][numFeat]\n",
    "    FeatClassical[i] = Classical[i][numFeat]    \n",
    "    FeatClatinamer[i] = Clatinamer[i][numFeat]   \n",
    "    FeatCountry[i] = Country[i][numFeat]\n",
    "    FeatEasy[i] = Easy[i][numFeat]\n",
    "    FeatElectronic[i] = Electronic[i][numFeat]\n",
    "    FeatFolk[i] = Folk[i][numFeat]\n",
    "    FeatHiphop[i] = Hiphop[i][numFeat]\n",
    "    FeatJazz[i] = Jazz[i][numFeat]\n",
    "    FeatPop[i] = Pop[i][numFeat]\n",
    "    FeatRnb[i] = Rnb[i][numFeat]\n",
    "    FeatRock[i] = Rock[i][numFeat]\n",
    "    FeatSka[i] = Ska[i][numFeat]"
   ]
  },
  {
   "cell_type": "code",
   "execution_count": 222,
   "metadata": {
    "collapsed": false
   },
   "outputs": [
    {
     "data": {
      "text/plain": [
       "<matplotlib.axes.AxesSubplot at 0x8c25332c>"
      ]
     },
     "execution_count": 222,
     "metadata": {},
     "output_type": "execute_result"
    }
   ],
   "source": [
    "sns.distplot(FeatAsian)\n",
    "sns.distplot(FeatBlues)\n",
    "sns.distplot(FeatClassical)\n",
    "sns.distplot(FeatClatinamer)\n",
    "sns.distplot(FeatCountry)\n",
    "sns.distplot(FeatEasy)\n",
    "sns.distplot(FeatElectronic)\n",
    "sns.distplot(FeatFolk)\n",
    "sns.distplot(FeatHiphop)\n",
    "sns.distplot(FeatJazz)\n",
    "sns.distplot(FeatPop)\n",
    "sns.distplot(FeatRnb)\n",
    "sns.distplot(FeatRock)\n",
    "sns.distplot(FeatSka)\n"
   ]
  },
  {
   "cell_type": "code",
   "execution_count": 223,
   "metadata": {
    "collapsed": true
   },
   "outputs": [],
   "source": [
    "plt.show()"
   ]
  },
  {
   "cell_type": "code",
   "execution_count": 220,
   "metadata": {
    "collapsed": false
   },
   "outputs": [
    {
     "data": {
      "text/plain": [
       "<matplotlib.axes.AxesSubplot at 0x8c2de84c>"
      ]
     },
     "execution_count": 220,
     "metadata": {},
     "output_type": "execute_result"
    }
   ],
   "source": [
    "sns.distplot(FeatClassical)"
   ]
  },
  {
   "cell_type": "code",
   "execution_count": null,
   "metadata": {
    "collapsed": true
   },
   "outputs": [],
   "source": []
  }
 ],
 "metadata": {
  "kernelspec": {
   "display_name": "Python 2",
   "language": "python",
   "name": "python2"
  },
  "language_info": {
   "codemirror_mode": {
    "name": "ipython",
    "version": 2
   },
   "file_extension": ".py",
   "mimetype": "text/x-python",
   "name": "python",
   "nbconvert_exporter": "python",
   "pygments_lexer": "ipython2",
   "version": "2.7.6"
  }
 },
 "nbformat": 4,
 "nbformat_minor": 0
}
