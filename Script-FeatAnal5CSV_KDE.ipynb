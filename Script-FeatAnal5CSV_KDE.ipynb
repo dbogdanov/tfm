{
 "cells": [
  {
   "cell_type": "code",
   "execution_count": 1,
   "metadata": {
    "collapsed": false
   },
   "outputs": [],
   "source": [
    "import scipy\n",
    "import numpy as np\n",
    "import matplotlib.pyplot as plt\n",
    "import essentia\n",
    "import json\n",
    "import glob\n",
    "import gzip\n",
    "import bz2\n",
    "import csv"
   ]
  },
  {
   "cell_type": "code",
   "execution_count": 2,
   "metadata": {
    "collapsed": false
   },
   "outputs": [],
   "source": [
    "import pandas as pd\n",
    "import seaborn as sns"
   ]
  },
  {
   "cell_type": "code",
   "execution_count": 3,
   "metadata": {
    "collapsed": true
   },
   "outputs": [],
   "source": [
    "import essentia.standard as estd\n",
    "import essentia.streaming as estr"
   ]
  },
  {
   "cell_type": "code",
   "execution_count": 4,
   "metadata": {
    "collapsed": false
   },
   "outputs": [],
   "source": [
    "json.data = []\n",
    "feat = []"
   ]
  },
  {
   "cell_type": "code",
   "execution_count": 5,
   "metadata": {
    "collapsed": false
   },
   "outputs": [
    {
     "data": {
      "text/plain": [
       "[]"
      ]
     },
     "execution_count": 5,
     "metadata": {},
     "output_type": "execute_result"
    }
   ],
   "source": [
    "feat"
   ]
  },
  {
   "cell_type": "code",
   "execution_count": 6,
   "metadata": {
    "collapsed": false
   },
   "outputs": [],
   "source": [
    "#def total_area_bz2('./acousticbrainz-2015-01-selected-features.csv.bz2'):\n",
    "#    with bz2.BZ2File('./acousticbrainz-2015-01-selected-features.csv.bz2') as f\n",
    "#        return sum_area(f)\n",
    "\n",
    "#input_file = bz2.BZ2File('./acousticbrainz-2015-01-selected-features.csv.bz2', 'rb')\n",
    "#try:\n",
    "#    print input_file.read()\n",
    "#finally:\n",
    "#    input_file.close()"
   ]
  },
  {
   "cell_type": "code",
   "execution_count": 7,
   "metadata": {
    "collapsed": false
   },
   "outputs": [],
   "source": [
    "#LOAD DESCRIPTORS DB\n",
    "\n",
    "#for filename in glob.glob('./testDB/*.json'):\n",
    "#    json.data.append(open(filename).read())\n",
    "\n",
    "with open(\"./testDB/last_fm.csv\", \"rb\") as f:\n",
    "    line=[line.split() for line in f]  "
   ]
  },
  {
   "cell_type": "code",
   "execution_count": 8,
   "metadata": {
    "collapsed": false
   },
   "outputs": [],
   "source": [
    "#CorLine = np.chararray(6301*348).reshape(6301, 348)\n"
   ]
  },
  {
   "cell_type": "code",
   "execution_count": 9,
   "metadata": {
    "collapsed": false
   },
   "outputs": [],
   "source": [
    "#for i in range (0,len(line)-1):\n",
    "#    CorLine[i] = str(line[i]).split(',')\n",
    "CorList = []\n",
    "\n",
    "for i in range (0,6301):\n",
    "    CorLine = []\n",
    "    CorLine.append(str(line[i]).split(','))\n",
    "    CorList.append(str(CorLine[0]).split(','))"
   ]
  },
  {
   "cell_type": "code",
   "execution_count": 10,
   "metadata": {
    "collapsed": false
   },
   "outputs": [
    {
     "data": {
      "text/plain": [
       "'12.87817478'"
      ]
     },
     "execution_count": 10,
     "metadata": {},
     "output_type": "execute_result"
    }
   ],
   "source": [
    "A =CorList[2][2][2:len(CorList[7][25])-1]\n",
    "A"
   ]
  },
  {
   "cell_type": "code",
   "execution_count": 11,
   "metadata": {
    "collapsed": false
   },
   "outputs": [],
   "source": [
    "AsianList = []\n",
    "for i in range(1,451):\n",
    "    for j in range(2,270):\n",
    "        AsianList.append(CorList[i][j][2:len(CorList[i][j])-1])"
   ]
  },
  {
   "cell_type": "code",
   "execution_count": 12,
   "metadata": {
    "collapsed": true
   },
   "outputs": [],
   "source": [
    "BluesList = []\n",
    "for i in range(451,901):\n",
    "    for j in range(2,270):\n",
    "        BluesList.append(CorList[i][j][2:len(CorList[i][j])-1])"
   ]
  },
  {
   "cell_type": "code",
   "execution_count": 13,
   "metadata": {
    "collapsed": true
   },
   "outputs": [],
   "source": [
    "ClassicalList = []\n",
    "for i in range(901,1351):\n",
    "    for j in range(2,270):\n",
    "        ClassicalList.append(CorList[i][j][2:len(CorList[i][j])-1])"
   ]
  },
  {
   "cell_type": "code",
   "execution_count": 14,
   "metadata": {
    "collapsed": true
   },
   "outputs": [],
   "source": [
    "ClatinamerList = []\n",
    "for i in range(1351,1801):\n",
    "    for j in range(2,270):\n",
    "        ClatinamerList.append(CorList[i][j][2:len(CorList[i][j])-1])"
   ]
  },
  {
   "cell_type": "code",
   "execution_count": 15,
   "metadata": {
    "collapsed": true
   },
   "outputs": [],
   "source": [
    "CountryList = []\n",
    "for i in range(1801,2251):\n",
    "    for j in range(2,270):\n",
    "        CountryList.append(CorList[i][j][2:len(CorList[i][j])-1])"
   ]
  },
  {
   "cell_type": "code",
   "execution_count": 16,
   "metadata": {
    "collapsed": true
   },
   "outputs": [],
   "source": [
    "EasyList = []\n",
    "for i in range(2251,2701):\n",
    "    for j in range(2,270):\n",
    "        EasyList.append(CorList[i][j][2:len(CorList[i][j])-1])"
   ]
  },
  {
   "cell_type": "code",
   "execution_count": 17,
   "metadata": {
    "collapsed": true
   },
   "outputs": [],
   "source": [
    "ElectronicList = []\n",
    "for i in range(2701,3151):\n",
    "    for j in range(2,270):\n",
    "        ElectronicList.append(CorList[i][j][2:len(CorList[i][j])-1])"
   ]
  },
  {
   "cell_type": "code",
   "execution_count": 18,
   "metadata": {
    "collapsed": true
   },
   "outputs": [],
   "source": [
    "FolkList = []\n",
    "for i in range(3151,3601):\n",
    "    for j in range(2,270):\n",
    "        FolkList.append(CorList[i][j][2:len(CorList[i][j])-1])"
   ]
  },
  {
   "cell_type": "code",
   "execution_count": 19,
   "metadata": {
    "collapsed": true
   },
   "outputs": [],
   "source": [
    "HiphopList = []\n",
    "for i in range(3601,4051):\n",
    "    for j in range(2,270):\n",
    "        HiphopList.append(CorList[i][j][2:len(CorList[i][j])-1])"
   ]
  },
  {
   "cell_type": "code",
   "execution_count": 20,
   "metadata": {
    "collapsed": true
   },
   "outputs": [],
   "source": [
    "JazzList = []\n",
    "for i in range(4051,4501):\n",
    "    for j in range(2,270):\n",
    "        JazzList.append(CorList[i][j][2:len(CorList[i][j])-1])"
   ]
  },
  {
   "cell_type": "code",
   "execution_count": 21,
   "metadata": {
    "collapsed": true
   },
   "outputs": [],
   "source": [
    "PopList = []\n",
    "for i in range(4501,4951):\n",
    "    for j in range(2,270):\n",
    "        PopList.append(CorList[i][j][2:len(CorList[i][j])-1])"
   ]
  },
  {
   "cell_type": "code",
   "execution_count": 22,
   "metadata": {
    "collapsed": true
   },
   "outputs": [],
   "source": [
    "RnbList = []\n",
    "for i in range(4951,5401):\n",
    "    for j in range(2,270):\n",
    "        RnbList.append(CorList[i][j][2:len(CorList[i][j])-1])"
   ]
  },
  {
   "cell_type": "code",
   "execution_count": 23,
   "metadata": {
    "collapsed": true
   },
   "outputs": [],
   "source": [
    "RockList = []\n",
    "for i in range(5401,5851):\n",
    "    for j in range(2,270):\n",
    "        RockList.append(CorList[i][j][2:len(CorList[i][j])-1])"
   ]
  },
  {
   "cell_type": "code",
   "execution_count": 24,
   "metadata": {
    "collapsed": true
   },
   "outputs": [],
   "source": [
    "SkaList = []\n",
    "for i in range(5851,6301):\n",
    "    for j in range(2,270):\n",
    "        SkaList.append(CorList[i][j][2:len(CorList[i][j])-1])"
   ]
  },
  {
   "cell_type": "code",
   "execution_count": 25,
   "metadata": {
    "collapsed": false
   },
   "outputs": [
    {
     "data": {
      "text/plain": [
       "120600"
      ]
     },
     "execution_count": 25,
     "metadata": {},
     "output_type": "execute_result"
    }
   ],
   "source": [
    "len(AsianList)"
   ]
  },
  {
   "cell_type": "code",
   "execution_count": 26,
   "metadata": {
    "collapsed": false
   },
   "outputs": [],
   "source": [
    "Asian = np.zeros([450,268])\n",
    "Blues = np.zeros([450,268])\n",
    "Classical = np.zeros([450,268])\n",
    "Clatinamer = np.zeros([450,268])\n",
    "Country =  np.zeros([450,268])\n",
    "Easy = np.zeros([450,268])\n",
    "Electronic = np.zeros([450,268])\n",
    "Folk = np.zeros([450,268])\n",
    "Hiphop = np.zeros([450,268])\n",
    "Jazz = np.zeros([450,268])\n",
    "Pop = np.zeros([450,268])\n",
    "Rnb = np.zeros([450,268])\n",
    "Rock = np.zeros([450,268])\n",
    "Ska = np.zeros([450,268])\n"
   ]
  },
  {
   "cell_type": "code",
   "execution_count": 27,
   "metadata": {
    "collapsed": false
   },
   "outputs": [],
   "source": [
    "k = 0\n",
    "for i in range (0,450):\n",
    "    for j in range (0,268):\n",
    "        Asian[i][j] = AsianList[k]\n",
    "        Blues[i][j] = BluesList[k]\n",
    "        Classical[i][j] = ClassicalList[k]\n",
    "        Clatinamer[i][j] = ClatinamerList[k]\n",
    "        Country[i][j] = CountryList[k]\n",
    "        Easy[i][j] = EasyList[k]\n",
    "        Electronic[i][j] = ElectronicList[k]\n",
    "        Folk[i][j] = FolkList[k]\n",
    "        Hiphop[i][j] = HiphopList[k]\n",
    "        Jazz[i][j] = JazzList[k]\n",
    "        Pop[i][j] = PopList[k]\n",
    "        Rnb[i][j] = RnbList[k]\n",
    "        Rock[i][j] = RockList[k]\n",
    "        Ska[i][j] = SkaList[k]\n",
    "        k = k+1\n",
    "    "
   ]
  },
  {
   "cell_type": "code",
   "execution_count": 69,
   "metadata": {
    "collapsed": false
   },
   "outputs": [
    {
     "data": {
      "text/plain": [
       "9.5537738799999996"
      ]
     },
     "execution_count": 69,
     "metadata": {},
     "output_type": "execute_result"
    }
   ],
   "source": [
    "Asian[0][266]"
   ]
  },
  {
   "cell_type": "code",
   "execution_count": 29,
   "metadata": {
    "collapsed": false
   },
   "outputs": [],
   "source": [
    "FeatAsian = np.zeros(len(Asian))\n",
    "FeatBlues = np.zeros(len(Blues))\n",
    "FeatClassical = np.zeros(len(Classical))\n",
    "FeatClatinamer = np.zeros(len(Clatinamer))\n",
    "FeatCountry = np.zeros(len(Country))\n",
    "FeatEasy = np.zeros(len(Easy))\n",
    "FeatElectronic = np.zeros(len(Electronic))\n",
    "FeatFolk = np.zeros(len(Folk))\n",
    "FeatHiphop = np.zeros(len(Hiphop))\n",
    "FeatJazz = np.zeros(len(Jazz))\n",
    "FeatPop = np.zeros(len(Pop))\n",
    "FeatRnb = np.zeros(len(Rnb))\n",
    "FeatRock = np.zeros(len(Rock))\n",
    "FeatSka = np.zeros(len(Ska))"
   ]
  },
  {
   "cell_type": "code",
   "execution_count": 70,
   "metadata": {
    "collapsed": false
   },
   "outputs": [],
   "source": [
    "numFeat = 266\n",
    "for i in range(0,len(FeatAsian)):\n",
    "    FeatAsian[i] = Asian[i][numFeat]\n",
    "    FeatBlues[i] = Blues[i][numFeat]\n",
    "    FeatClassical[i] = Classical[i][numFeat]    \n",
    "    FeatClatinamer[i] = Clatinamer[i][numFeat]   \n",
    "    FeatCountry[i] = Country[i][numFeat]\n",
    "    FeatEasy[i] = Easy[i][numFeat]\n",
    "    FeatElectronic[i] = Electronic[i][numFeat]\n",
    "    FeatFolk[i] = Folk[i][numFeat]\n",
    "    FeatHiphop[i] = Hiphop[i][numFeat]\n",
    "    FeatJazz[i] = Jazz[i][numFeat]\n",
    "    FeatPop[i] = Pop[i][numFeat]\n",
    "    FeatRnb[i] = Rnb[i][numFeat]\n",
    "    FeatRock[i] = Rock[i][numFeat]\n",
    "    FeatSka[i] = Ska[i][numFeat]"
   ]
  },
  {
   "cell_type": "code",
   "execution_count": 100,
   "metadata": {
    "collapsed": false
   },
   "outputs": [
    {
     "data": {
      "text/plain": [
       "<matplotlib.axes.AxesSubplot at 0x8ea31b8c>"
      ]
     },
     "execution_count": 100,
     "metadata": {},
     "output_type": "execute_result"
    }
   ],
   "source": [
    "sns.distplot(FeatAsian) #b\n",
    "sns.distplot(FeatBlues) #g\n",
    "sns.distplot(FeatClassical) #r\n",
    "sns.distplot(FeatClatinamer) #p\n",
    "sns.distplot(FeatCountry) #y\n",
    "sns.distplot(FeatEasy) #c\n",
    "sns.distplot(FeatElectronic) #b\n",
    "sns.distplot(FeatFolk) #g\n",
    "sns.distplot(FeatHiphop) #r\n",
    "sns.distplot(FeatJazz) #p\n",
    "sns.distplot(FeatPop) #y\n",
    "sns.distplot(FeatRnb) #c\n",
    "sns.distplot(FeatRock) #b\n",
    "sns.distplot(FeatSka) #g\n",
    "\n",
    "#6 colors"
   ]
  },
  {
   "cell_type": "code",
   "execution_count": 101,
   "metadata": {
    "collapsed": true
   },
   "outputs": [],
   "source": [
    "plt.show()"
   ]
  },
  {
   "cell_type": "code",
   "execution_count": 220,
   "metadata": {
    "collapsed": false
   },
   "outputs": [
    {
     "data": {
      "text/plain": [
       "<matplotlib.axes.AxesSubplot at 0x8c2de84c>"
      ]
     },
     "execution_count": 220,
     "metadata": {},
     "output_type": "execute_result"
    }
   ],
   "source": [
    "sns.distplot(FeatClassical)"
   ]
  },
  {
   "cell_type": "code",
   "execution_count": 102,
   "metadata": {
    "collapsed": false
   },
   "outputs": [
    {
     "data": {
      "text/plain": [
       "<matplotlib.axes.AxesSubplot at 0x8e63790c>"
      ]
     },
     "execution_count": 102,
     "metadata": {},
     "output_type": "execute_result"
    }
   ],
   "source": [
    "sns.distplot(FeatHiphop)\n",
    "sns.distplot(FeatBlues)\n",
    "sns.distplot(FeatCountry) #y\n",
    "sns.distplot(FeatEasy) #c\n",
    "\n"
   ]
  },
  {
   "cell_type": "code",
   "execution_count": 103,
   "metadata": {
    "collapsed": false
   },
   "outputs": [],
   "source": [
    "plt.show()"
   ]
  },
  {
   "cell_type": "code",
   "execution_count": 104,
   "metadata": {
    "collapsed": true
   },
   "outputs": [],
   "source": [
    "FeatComb = np.zeros(2*len(Asian))"
   ]
  },
  {
   "cell_type": "code",
   "execution_count": null,
   "metadata": {
    "collapsed": true
   },
   "outputs": [],
   "source": [
    "for i in range (0,len(Asian)):\n",
    "    FeatComb[i][0] = Asian[i][numFeat1]\n",
    "    FeatComb[i][1] = "
   ]
  },
  {
   "cell_type": "code",
   "execution_count": 107,
   "metadata": {
    "collapsed": true
   },
   "outputs": [],
   "source": [
    "CombAsian = np.zeros(shape=(len(Asian),2))\n",
    "CombBlues = np.zeros(shape=(len(Asian),2))\n",
    "CombClassical = np.zeros(shape=(len(Asian),2))\n",
    "CombClatinamer = np.zeros(shape=(len(Asian),2))\n",
    "CombCountry = np.zeros(shape=(len(Asian),2))\n",
    "CombEasy = np.zeros(shape=(len(Asian),2))\n",
    "CombElectronic = np.zeros(shape=(len(Asian),2))\n",
    "CombFolk = np.zeros(shape=(len(Asian),2))\n",
    "CombHiphop = np.zeros(shape=(len(Asian),2))\n",
    "CombJazz = np.zeros(shape=(len(Asian),2))\n",
    "CombPop = np.zeros(shape=(len(Asian),2))\n",
    "CombRnb = np.zeros(shape=(len(Asian),2))\n",
    "CombRock = np.zeros(shape=(len(Asian),2))\n",
    "CombSka = np.zeros(shape=(len(Asian),2))"
   ]
  },
  {
   "cell_type": "code",
   "execution_count": 120,
   "metadata": {
    "collapsed": true
   },
   "outputs": [],
   "source": [
    "numFeat1 = 4\n",
    "numFeat2 = 266\n",
    "for i in range(0,len(FeatAsian)):\n",
    "    CombAsian[i][0] = Asian[i][numFeat1]\n",
    "    CombAsian[i][1] = Asian[i][numFeat2]\n",
    "    CombBlues[i][0] = Blues[i][numFeat1]\n",
    "    CombBlues[i][1] = Blues[i][numFeat2]\n",
    "    CombClassical[i][0] = Classical[i][numFeat1]\n",
    "    CombClassical[i][1] = Classical[i][numFeat2]\n",
    "    CombClatinamer[i][0] = Clatinamer[i][numFeat1]\n",
    "    CombClatinamer[i][1] = Clatinamer[i][numFeat2]\n",
    "    CombCountry[i][0] = Country[i][numFeat1]\n",
    "    CombCountry[i][1] = Country[i][numFeat2]\n",
    "    CombEasy[i][0] = Easy[i][numFeat1]\n",
    "    CombEasy[i][1] = Easy[i][numFeat2]\n",
    "    CombElectronic[i][0] = Electronic[i][numFeat1]\n",
    "    CombElectronic[i][1] = Electronic[i][numFeat2]\n",
    "    CombFolk[i][0] = Folk[i][numFeat1]\n",
    "    CombFolk[i][1] = Folk[i][numFeat2]\n",
    "    CombHiphop[i][0] = Hiphop[i][numFeat1]\n",
    "    CombHiphop[i][1] = Hiphop[i][numFeat2]\n",
    "    CombJazz[i][0] = Jazz[i][numFeat1]\n",
    "    CombJazz[i][1] = Jazz[i][numFeat2]\n",
    "    CombPop[i][0] = Pop[i][numFeat1]\n",
    "    CombPop[i][1] = Pop[i][numFeat2]\n",
    "    CombRnb[i][0] = Rnb[i][numFeat1]\n",
    "    CombRnb[i][1] = Rnb[i][numFeat2]\n",
    "    CombRock[i][0] = Rock[i][numFeat1]\n",
    "    CombRock[i][1] = Rock[i][numFeat2]\n",
    "    CombSka[i][0] = Ska[i][numFeat1]\n",
    "    CombSka[i][1] = Ska[i][numFeat2]\n"
   ]
  },
  {
   "cell_type": "code",
   "execution_count": 128,
   "metadata": {
    "collapsed": false
   },
   "outputs": [
    {
     "data": {
      "text/plain": [
       "<matplotlib.collections.PathCollection at 0x8e526c8c>"
      ]
     },
     "execution_count": 128,
     "metadata": {},
     "output_type": "execute_result"
    }
   ],
   "source": [
    "plt.scatter(CombAsian[:][0],CombAsian[:][1])"
   ]
  },
  {
   "cell_type": "code",
   "execution_count": 129,
   "metadata": {
    "collapsed": true
   },
   "outputs": [],
   "source": [
    "plt.show()"
   ]
  },
  {
   "cell_type": "code",
   "execution_count": 169,
   "metadata": {
    "collapsed": false
   },
   "outputs": [],
   "source": [
    "df1 = pd.DataFrame(CombAsian, columns = [\"x1\",\"y1\"])\n",
    "df2 = pd.DataFrame(CombElectronic, columns = [\"x2\",\"y2\"])"
   ]
  },
  {
   "cell_type": "code",
   "execution_count": 170,
   "metadata": {
    "collapsed": false
   },
   "outputs": [],
   "source": [
    "graph = sns.jointplot(x=df1.x1, y=df1.y1,kind = \"kde\",color = 'b')\n",
    "\n",
    "graph.x = df2.x2\n",
    "graph.y = df2.y2"
   ]
  },
  {
   "cell_type": "code",
   "execution_count": 171,
   "metadata": {
    "collapsed": false
   },
   "outputs": [
    {
     "data": {
      "text/plain": [
       "<seaborn.axisgrid.JointGrid at 0x8a3efaec>"
      ]
     },
     "execution_count": 171,
     "metadata": {},
     "output_type": "execute_result"
    }
   ],
   "source": [
    "graph.plot_joint(plt.scatter, marker = \"x\", c='r', s=50)"
   ]
  },
  {
   "cell_type": "code",
   "execution_count": 172,
   "metadata": {
    "collapsed": true
   },
   "outputs": [],
   "source": [
    "plt.show()"
   ]
  },
  {
   "cell_type": "code",
   "execution_count": 168,
   "metadata": {
    "collapsed": true
   },
   "outputs": [],
   "source": []
  },
  {
   "cell_type": "code",
   "execution_count": null,
   "metadata": {
    "collapsed": true
   },
   "outputs": [],
   "source": []
  },
  {
   "cell_type": "code",
   "execution_count": null,
   "metadata": {
    "collapsed": true
   },
   "outputs": [],
   "source": []
  },
  {
   "cell_type": "code",
   "execution_count": 179,
   "metadata": {
    "collapsed": true
   },
   "outputs": [],
   "source": [
    "FeatAsian1 = np.zeros(len(Asian))\n",
    "FeatBlues1 = np.zeros(len(Blues))\n",
    "FeatClassical1 = np.zeros(len(Classical))\n",
    "FeatClatinamer1 = np.zeros(len(Clatinamer))\n",
    "FeatCountry1 = np.zeros(len(Country))\n",
    "FeatEasy1 = np.zeros(len(Easy))\n",
    "FeatElectronic1 = np.zeros(len(Electronic))\n",
    "FeatFolk1 = np.zeros(len(Folk))\n",
    "FeatHiphop1 = np.zeros(len(Hiphop))\n",
    "FeatJazz1 = np.zeros(len(Jazz))\n",
    "FeatPop1 = np.zeros(len(Pop))\n",
    "FeatRnb1 = np.zeros(len(Rnb))\n",
    "FeatRock1 = np.zeros(len(Rock))\n",
    "FeatSka1 = np.zeros(len(Ska))\n",
    "\n",
    "FeatAsian2 = np.zeros(len(Asian))\n",
    "FeatBlues2 = np.zeros(len(Blues))\n",
    "FeatClassical2 = np.zeros(len(Classical))\n",
    "FeatClatinamer2 = np.zeros(len(Clatinamer))\n",
    "FeatCountry2 = np.zeros(len(Country))\n",
    "FeatEasy2 = np.zeros(len(Easy))\n",
    "FeatElectronic2 = np.zeros(len(Electronic))\n",
    "FeatFolk2 = np.zeros(len(Folk))\n",
    "FeatHiphop2 = np.zeros(len(Hiphop))\n",
    "FeatJazz2 = np.zeros(len(Jazz))\n",
    "FeatPop2 = np.zeros(len(Pop))\n",
    "FeatRnb2 = np.zeros(len(Rnb))\n",
    "FeatRock2 = np.zeros(len(Rock))\n",
    "FeatSka2 = np.zeros(len(Ska))"
   ]
  },
  {
   "cell_type": "code",
   "execution_count": 180,
   "metadata": {
    "collapsed": false
   },
   "outputs": [],
   "source": [
    "numFeatA = 266\n",
    "for i in range(0,len(FeatAsian)):\n",
    "    FeatAsian1[i] = Asian[i][numFeatA]\n",
    "    FeatBlues1[i] = Blues[i][numFeatA]\n",
    "    FeatClassical1[i] = Classical[i][numFeatA]    \n",
    "    FeatClatinamer1[i] = Clatinamer[i][numFeatA]   \n",
    "    FeatCountry1[i] = Country[i][numFeatA]\n",
    "    FeatEasy1[i] = Easy[i][numFeatA]\n",
    "    FeatElectronic1[i] = Electronic[i][numFeatA]\n",
    "    FeatFolk1[i] = Folk[i][numFeatA]\n",
    "    FeatHiphop1[i] = Hiphop[i][numFeatA]\n",
    "    FeatJazz1[i] = Jazz[i][numFeatA]\n",
    "    FeatPop1[i] = Pop[i][numFeatA]\n",
    "    FeatRnb1[i] = Rnb[i][numFeatA]\n",
    "    FeatRock1[i] = Rock[i][numFeatA]\n",
    "    FeatSka1[i] = Ska[i][numFeatA]"
   ]
  },
  {
   "cell_type": "code",
   "execution_count": 181,
   "metadata": {
    "collapsed": true
   },
   "outputs": [],
   "source": [
    "numFeatB = 4\n",
    "for i in range(0,len(FeatAsian)):\n",
    "    FeatAsian2[i] = Asian[i][numFeatB]\n",
    "    FeatBlues2[i] = Blues[i][numFeatB]\n",
    "    FeatClassical2[i] = Classical[i][numFeatB]    \n",
    "    FeatClatinamer2[i] = Clatinamer[i][numFeatB]   \n",
    "    FeatCountry2[i] = Country[i][numFeatB]\n",
    "    FeatEasy2[i] = Easy[i][numFeatB]\n",
    "    FeatElectronic2[i] = Electronic[i][numFeatB]\n",
    "    FeatFolk2[i] = Folk[i][numFeatB]\n",
    "    FeatHiphop2[i] = Hiphop[i][numFeatB]\n",
    "    FeatJazz2[i] = Jazz[i][numFeatB]\n",
    "    FeatPop2[i] = Pop[i][numFeatB]\n",
    "    FeatRnb2[i] = Rnb[i][numFeatB]\n",
    "    FeatRock2[i] = Rock[i][numFeatB]\n",
    "    FeatSka2[i] = Ska[i][numFeatB]"
   ]
  },
  {
   "cell_type": "code",
   "execution_count": 207,
   "metadata": {
    "collapsed": true
   },
   "outputs": [],
   "source": [
    "ax = sns.kdeplot(FeatClassical1,FeatClassical2,cmap=\"Reds\", shade=True,shade_lowest=False)\n",
    "ax = sns.kdeplot(FeatHiphop1,FeatHiphop2,cmap=\"Blues\", shade=True,shade_lowest=False)\n",
    "ax = sns.kdeplot(FeatCountry1,FeatCountry2,cmap=\"Greens\", shade=True,shade_lowest=False)"
   ]
  },
  {
   "cell_type": "code",
   "execution_count": 208,
   "metadata": {
    "collapsed": true
   },
   "outputs": [],
   "source": [
    "plt.show()"
   ]
  },
  {
   "cell_type": "code",
   "execution_count": null,
   "metadata": {
    "collapsed": true
   },
   "outputs": [],
   "source": []
  }
 ],
 "metadata": {
  "kernelspec": {
   "display_name": "Python 2",
   "language": "python",
   "name": "python2"
  },
  "language_info": {
   "codemirror_mode": {
    "name": "ipython",
    "version": 2
   },
   "file_extension": ".py",
   "mimetype": "text/x-python",
   "name": "python",
   "nbconvert_exporter": "python",
   "pygments_lexer": "ipython2",
   "version": "2.7.6"
  }
 },
 "nbformat": 4,
 "nbformat_minor": 0
}
