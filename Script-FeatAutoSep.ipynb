{
 "cells": [
  {
   "cell_type": "code",
   "execution_count": 1,
   "metadata": {
    "collapsed": false
   },
   "outputs": [],
   "source": [
    "import scipy\n",
    "import numpy as np\n",
    "import matplotlib.pyplot as plt\n",
    "import essentia\n",
    "import json\n",
    "import glob\n",
    "import gzip\n",
    "import bz2\n",
    "import csv"
   ]
  },
  {
   "cell_type": "code",
   "execution_count": 2,
   "metadata": {
    "collapsed": false
   },
   "outputs": [],
   "source": [
    "import pandas as pd\n",
    "import seaborn as sns\n",
    "from sklearn import mixture"
   ]
  },
  {
   "cell_type": "code",
   "execution_count": 3,
   "metadata": {
    "collapsed": true
   },
   "outputs": [],
   "source": [
    "import essentia.standard as estd\n",
    "import essentia.streaming as estr"
   ]
  },
  {
   "cell_type": "code",
   "execution_count": 4,
   "metadata": {
    "collapsed": false
   },
   "outputs": [],
   "source": [
    "json.data = []\n",
    "feat = []"
   ]
  },
  {
   "cell_type": "code",
   "execution_count": 5,
   "metadata": {
    "collapsed": false
   },
   "outputs": [
    {
     "data": {
      "text/plain": [
       "[]"
      ]
     },
     "execution_count": 5,
     "metadata": {},
     "output_type": "execute_result"
    }
   ],
   "source": [
    "feat"
   ]
  },
  {
   "cell_type": "code",
   "execution_count": 6,
   "metadata": {
    "collapsed": false
   },
   "outputs": [],
   "source": [
    "#def total_area_bz2('./acousticbrainz-2015-01-selected-features.csv.bz2'):\n",
    "#    with bz2.BZ2File('./acousticbrainz-2015-01-selected-features.csv.bz2') as f\n",
    "#        return sum_area(f)\n",
    "\n",
    "#input_file = bz2.BZ2File('./acousticbrainz-2015-01-selected-features.csv.bz2', 'rb')\n",
    "#try:\n",
    "#    print input_file.read()\n",
    "#finally:\n",
    "#    input_file.close()"
   ]
  },
  {
   "cell_type": "code",
   "execution_count": 7,
   "metadata": {
    "collapsed": false
   },
   "outputs": [],
   "source": [
    "#LOAD DESCRIPTORS DB\n",
    "\n",
    "#for filename in glob.glob('./testDB/*.json'):\n",
    "#    json.data.append(open(filename).read())\n",
    "\n",
    "with open(\"./testDB/last_fm.csv\", \"rb\") as f:\n",
    "    line=[line.split() for line in f]  "
   ]
  },
  {
   "cell_type": "code",
   "execution_count": 8,
   "metadata": {
    "collapsed": false
   },
   "outputs": [],
   "source": [
    "#CorLine = np.chararray(6301*348).reshape(6301, 348)\n"
   ]
  },
  {
   "cell_type": "code",
   "execution_count": 9,
   "metadata": {
    "collapsed": false
   },
   "outputs": [],
   "source": [
    "#for i in range (0,len(line)-1):\n",
    "#    CorLine[i] = str(line[i]).split(',')\n",
    "CorList = []\n",
    "\n",
    "for i in range (0,6301):\n",
    "    CorLine = []\n",
    "    CorLine.append(str(line[i]).split(','))\n",
    "    CorList.append(str(CorLine[0]).split(','))"
   ]
  },
  {
   "cell_type": "code",
   "execution_count": 10,
   "metadata": {
    "collapsed": false
   },
   "outputs": [
    {
     "data": {
      "text/plain": [
       "'12.87817478'"
      ]
     },
     "execution_count": 10,
     "metadata": {},
     "output_type": "execute_result"
    }
   ],
   "source": [
    "A =CorList[2][2][2:len(CorList[7][25])-1]\n",
    "A"
   ]
  },
  {
   "cell_type": "code",
   "execution_count": 11,
   "metadata": {
    "collapsed": false
   },
   "outputs": [],
   "source": [
    "AsianList = []\n",
    "for i in range(1,451):\n",
    "    for j in range(2,270):\n",
    "        AsianList.append(CorList[i][j][2:len(CorList[i][j])-1])"
   ]
  },
  {
   "cell_type": "code",
   "execution_count": 12,
   "metadata": {
    "collapsed": true
   },
   "outputs": [],
   "source": [
    "BluesList = []\n",
    "for i in range(451,901):\n",
    "    for j in range(2,270):\n",
    "        BluesList.append(CorList[i][j][2:len(CorList[i][j])-1])"
   ]
  },
  {
   "cell_type": "code",
   "execution_count": 13,
   "metadata": {
    "collapsed": true
   },
   "outputs": [],
   "source": [
    "ClassicalList = []\n",
    "for i in range(901,1351):\n",
    "    for j in range(2,270):\n",
    "        ClassicalList.append(CorList[i][j][2:len(CorList[i][j])-1])"
   ]
  },
  {
   "cell_type": "code",
   "execution_count": 14,
   "metadata": {
    "collapsed": true
   },
   "outputs": [],
   "source": [
    "ClatinamerList = []\n",
    "for i in range(1351,1801):\n",
    "    for j in range(2,270):\n",
    "        ClatinamerList.append(CorList[i][j][2:len(CorList[i][j])-1])"
   ]
  },
  {
   "cell_type": "code",
   "execution_count": 15,
   "metadata": {
    "collapsed": true
   },
   "outputs": [],
   "source": [
    "CountryList = []\n",
    "for i in range(1801,2251):\n",
    "    for j in range(2,270):\n",
    "        CountryList.append(CorList[i][j][2:len(CorList[i][j])-1])"
   ]
  },
  {
   "cell_type": "code",
   "execution_count": 16,
   "metadata": {
    "collapsed": true
   },
   "outputs": [],
   "source": [
    "EasyList = []\n",
    "for i in range(2251,2701):\n",
    "    for j in range(2,270):\n",
    "        EasyList.append(CorList[i][j][2:len(CorList[i][j])-1])"
   ]
  },
  {
   "cell_type": "code",
   "execution_count": 17,
   "metadata": {
    "collapsed": true
   },
   "outputs": [],
   "source": [
    "ElectronicList = []\n",
    "for i in range(2701,3151):\n",
    "    for j in range(2,270):\n",
    "        ElectronicList.append(CorList[i][j][2:len(CorList[i][j])-1])"
   ]
  },
  {
   "cell_type": "code",
   "execution_count": 18,
   "metadata": {
    "collapsed": true
   },
   "outputs": [],
   "source": [
    "FolkList = []\n",
    "for i in range(3151,3601):\n",
    "    for j in range(2,270):\n",
    "        FolkList.append(CorList[i][j][2:len(CorList[i][j])-1])"
   ]
  },
  {
   "cell_type": "code",
   "execution_count": 19,
   "metadata": {
    "collapsed": true
   },
   "outputs": [],
   "source": [
    "HiphopList = []\n",
    "for i in range(3601,4051):\n",
    "    for j in range(2,270):\n",
    "        HiphopList.append(CorList[i][j][2:len(CorList[i][j])-1])"
   ]
  },
  {
   "cell_type": "code",
   "execution_count": 20,
   "metadata": {
    "collapsed": true
   },
   "outputs": [],
   "source": [
    "JazzList = []\n",
    "for i in range(4051,4501):\n",
    "    for j in range(2,270):\n",
    "        JazzList.append(CorList[i][j][2:len(CorList[i][j])-1])"
   ]
  },
  {
   "cell_type": "code",
   "execution_count": 21,
   "metadata": {
    "collapsed": true
   },
   "outputs": [],
   "source": [
    "PopList = []\n",
    "for i in range(4501,4951):\n",
    "    for j in range(2,270):\n",
    "        PopList.append(CorList[i][j][2:len(CorList[i][j])-1])"
   ]
  },
  {
   "cell_type": "code",
   "execution_count": 22,
   "metadata": {
    "collapsed": true
   },
   "outputs": [],
   "source": [
    "RnbList = []\n",
    "for i in range(4951,5401):\n",
    "    for j in range(2,270):\n",
    "        RnbList.append(CorList[i][j][2:len(CorList[i][j])-1])"
   ]
  },
  {
   "cell_type": "code",
   "execution_count": 23,
   "metadata": {
    "collapsed": true
   },
   "outputs": [],
   "source": [
    "RockList = []\n",
    "for i in range(5401,5851):\n",
    "    for j in range(2,270):\n",
    "        RockList.append(CorList[i][j][2:len(CorList[i][j])-1])"
   ]
  },
  {
   "cell_type": "code",
   "execution_count": 24,
   "metadata": {
    "collapsed": true
   },
   "outputs": [],
   "source": [
    "SkaList = []\n",
    "for i in range(5851,6301):\n",
    "    for j in range(2,270):\n",
    "        SkaList.append(CorList[i][j][2:len(CorList[i][j])-1])"
   ]
  },
  {
   "cell_type": "code",
   "execution_count": 25,
   "metadata": {
    "collapsed": false
   },
   "outputs": [
    {
     "data": {
      "text/plain": [
       "120600"
      ]
     },
     "execution_count": 25,
     "metadata": {},
     "output_type": "execute_result"
    }
   ],
   "source": [
    "len(AsianList)"
   ]
  },
  {
   "cell_type": "code",
   "execution_count": 26,
   "metadata": {
    "collapsed": false
   },
   "outputs": [],
   "source": [
    "Asian = np.zeros([450,268])\n",
    "Blues = np.zeros([450,268])\n",
    "Classical = np.zeros([450,268])\n",
    "Clatinamer = np.zeros([450,268])\n",
    "Country =  np.zeros([450,268])\n",
    "Easy = np.zeros([450,268])\n",
    "Electronic = np.zeros([450,268])\n",
    "Folk = np.zeros([450,268])\n",
    "Hiphop = np.zeros([450,268])\n",
    "Jazz = np.zeros([450,268])\n",
    "Pop = np.zeros([450,268])\n",
    "Rnb = np.zeros([450,268])\n",
    "Rock = np.zeros([450,268])\n",
    "Ska = np.zeros([450,268])\n"
   ]
  },
  {
   "cell_type": "code",
   "execution_count": 27,
   "metadata": {
    "collapsed": false
   },
   "outputs": [],
   "source": [
    "k = 0\n",
    "for i in range (0,450):\n",
    "    for j in range (0,268):\n",
    "        Asian[i][j] = AsianList[k]\n",
    "        Blues[i][j] = BluesList[k]\n",
    "        Classical[i][j] = ClassicalList[k]\n",
    "        Clatinamer[i][j] = ClatinamerList[k]\n",
    "        Country[i][j] = CountryList[k]\n",
    "        Easy[i][j] = EasyList[k]\n",
    "        Electronic[i][j] = ElectronicList[k]\n",
    "        Folk[i][j] = FolkList[k]\n",
    "        Hiphop[i][j] = HiphopList[k]\n",
    "        Jazz[i][j] = JazzList[k]\n",
    "        Pop[i][j] = PopList[k]\n",
    "        Rnb[i][j] = RnbList[k]\n",
    "        Rock[i][j] = RockList[k]\n",
    "        Ska[i][j] = SkaList[k]\n",
    "        k = k+1\n",
    "    "
   ]
  },
  {
   "cell_type": "code",
   "execution_count": 28,
   "metadata": {
    "collapsed": false
   },
   "outputs": [
    {
     "data": {
      "text/plain": [
       "9.5537738799999996"
      ]
     },
     "execution_count": 28,
     "metadata": {},
     "output_type": "execute_result"
    }
   ],
   "source": [
    "Asian[0][266]"
   ]
  },
  {
   "cell_type": "code",
   "execution_count": 29,
   "metadata": {
    "collapsed": false
   },
   "outputs": [],
   "source": [
    "FeatAsian = np.zeros(len(Asian))\n",
    "FeatBlues = np.zeros(len(Blues))\n",
    "FeatClassical = np.zeros(len(Classical))\n",
    "FeatClatinamer = np.zeros(len(Clatinamer))\n",
    "FeatCountry = np.zeros(len(Country))\n",
    "FeatEasy = np.zeros(len(Easy))\n",
    "FeatElectronic = np.zeros(len(Electronic))\n",
    "FeatFolk = np.zeros(len(Folk))\n",
    "FeatHiphop = np.zeros(len(Hiphop))\n",
    "FeatJazz = np.zeros(len(Jazz))\n",
    "FeatPop = np.zeros(len(Pop))\n",
    "FeatRnb = np.zeros(len(Rnb))\n",
    "FeatRock = np.zeros(len(Rock))\n",
    "FeatSka = np.zeros(len(Ska))"
   ]
  },
  {
   "cell_type": "code",
   "execution_count": 30,
   "metadata": {
    "collapsed": false
   },
   "outputs": [],
   "source": [
    "numFeat = 4\n",
    "for i in range(0,len(FeatAsian)):\n",
    "    FeatAsian[i] = Asian[i][numFeat]\n",
    "    FeatBlues[i] = Blues[i][numFeat]\n",
    "    FeatClassical[i] = Classical[i][numFeat]    \n",
    "    FeatClatinamer[i] = Clatinamer[i][numFeat]   \n",
    "    FeatCountry[i] = Country[i][numFeat]\n",
    "    FeatEasy[i] = Easy[i][numFeat]\n",
    "    FeatElectronic[i] = Electronic[i][numFeat]\n",
    "    FeatFolk[i] = Folk[i][numFeat]\n",
    "    FeatHiphop[i] = Hiphop[i][numFeat]\n",
    "    FeatJazz[i] = Jazz[i][numFeat]\n",
    "    FeatPop[i] = Pop[i][numFeat]\n",
    "    FeatRnb[i] = Rnb[i][numFeat]\n",
    "    FeatRock[i] = Rock[i][numFeat]\n",
    "    FeatSka[i] = Ska[i][numFeat]"
   ]
  },
  {
   "cell_type": "code",
   "execution_count": 35,
   "metadata": {
    "collapsed": false
   },
   "outputs": [
    {
     "data": {
      "text/plain": [
       "<matplotlib.axes.AxesSubplot at 0x99b7d0ac>"
      ]
     },
     "execution_count": 35,
     "metadata": {},
     "output_type": "execute_result"
    }
   ],
   "source": [
    "sns.distplot(FeatAsian) #b\n",
    "sns.distplot(FeatBlues) #g\n",
    "sns.distplot(FeatClassical) #r\n",
    "sns.distplot(FeatClatinamer) #p\n",
    "sns.distplot(FeatCountry) #y\n",
    "sns.distplot(FeatEasy) #c\n",
    "sns.distplot(FeatElectronic) #b\n",
    "sns.distplot(FeatFolk) #g\n",
    "sns.distplot(FeatHiphop) #r\n",
    "sns.distplot(FeatJazz) #p\n",
    "sns.distplot(FeatPop) #y\n",
    "sns.distplot(FeatRnb) #c\n",
    "sns.distplot(FeatRock) #b\n",
    "sns.distplot(FeatSka) #g\n",
    "\n",
    "#6 colors"
   ]
  },
  {
   "cell_type": "code",
   "execution_count": 36,
   "metadata": {
    "collapsed": true
   },
   "outputs": [],
   "source": [
    "plt.show()"
   ]
  },
  {
   "cell_type": "code",
   "execution_count": null,
   "metadata": {
    "collapsed": true
   },
   "outputs": [],
   "source": []
  },
  {
   "cell_type": "code",
   "execution_count": null,
   "metadata": {
    "collapsed": true
   },
   "outputs": [],
   "source": []
  },
  {
   "cell_type": "code",
   "execution_count": 61,
   "metadata": {
    "collapsed": false
   },
   "outputs": [
    {
     "data": {
      "text/plain": [
       "([<matplotlib.axis.XTick at 0x951e43ac>,\n",
       "  <matplotlib.axis.XTick at 0x94f831cc>,\n",
       "  <matplotlib.axis.XTick at 0x94e2aeac>,\n",
       "  <matplotlib.axis.XTick at 0x94e3054c>,\n",
       "  <matplotlib.axis.XTick at 0x94e30cac>,\n",
       "  <matplotlib.axis.XTick at 0x94e3542c>,\n",
       "  <matplotlib.axis.XTick at 0x94e35b8c>,\n",
       "  <matplotlib.axis.XTick at 0x94e3930c>,\n",
       "  <matplotlib.axis.XTick at 0x94e39a6c>,\n",
       "  <matplotlib.axis.XTick at 0x94e401ec>,\n",
       "  <matplotlib.axis.XTick at 0x94e4094c>,\n",
       "  <matplotlib.axis.XTick at 0x94e440cc>,\n",
       "  <matplotlib.axis.XTick at 0x94e4482c>,\n",
       "  <matplotlib.axis.XTick at 0x94e44f8c>],\n",
       " <a list of 14 Text xticklabel objects>)"
      ]
     },
     "execution_count": 61,
     "metadata": {},
     "output_type": "execute_result"
    }
   ],
   "source": [
    "plt.boxplot([x for x in [FeatAsian,FeatBlues,FeatClassical,FeatClatinamer,FeatCountry,FeatEasy,FeatElectronic,FeatFolk,FeatHiphop,FeatJazz,FeatPop,FeatRnb,FeatRock,FeatSka]], 0, 'rs', 1)\n",
    "plt.xticks([y+1 for y in range(len([FeatAsian,FeatBlues,FeatClassical,FeatClatinamer,FeatCountry,FeatEasy,FeatElectronic,FeatFolk,FeatHiphop,FeatJazz,FeatPop,FeatRnb,FeatRock,FeatSka]))], ['FeatAsian','FeatBlues','FeatClassical','FeatClatinamer','FeatCountry','FeatEasy','FeatElectronic','FeatFolk','FeatHiphop','FeatJazz','FeatPop','FeatRnb','FeatRock','FeatSka'])"
   ]
  },
  {
   "cell_type": "code",
   "execution_count": 62,
   "metadata": {
    "collapsed": true
   },
   "outputs": [],
   "source": [
    "plt.show()"
   ]
  },
  {
   "cell_type": "code",
   "execution_count": 65,
   "metadata": {
    "collapsed": false
   },
   "outputs": [
    {
     "data": {
      "text/plain": [
       "array([[ 0.,  0.,  0.],\n",
       "       [ 0.,  0.,  0.],\n",
       "       [ 0.,  0.,  0.],\n",
       "       [ 0.,  0.,  0.],\n",
       "       [ 0.,  0.,  0.],\n",
       "       [ 0.,  0.,  0.],\n",
       "       [ 0.,  0.,  0.],\n",
       "       [ 0.,  0.,  0.],\n",
       "       [ 0.,  0.,  0.],\n",
       "       [ 0.,  0.,  0.],\n",
       "       [ 0.,  0.,  0.],\n",
       "       [ 0.,  0.,  0.],\n",
       "       [ 0.,  0.,  0.],\n",
       "       [ 0.,  0.,  0.]])"
      ]
     },
     "execution_count": 65,
     "metadata": {},
     "output_type": "execute_result"
    }
   ],
   "source": [
    "meanFeats = np.zeros((14,3))\n",
    "meanFeats"
   ]
  },
  {
   "cell_type": "code",
   "execution_count": 71,
   "metadata": {
    "collapsed": false
   },
   "outputs": [],
   "source": [
    "i = 0\n",
    "for genre in [FeatAsian,FeatBlues,FeatClassical,FeatClatinamer,FeatCountry,FeatEasy,FeatElectronic,FeatFolk,FeatHiphop,FeatJazz,FeatPop,FeatRnb,FeatRock,FeatSka]:\n",
    "    meanFeats[i][0] = i\n",
    "    meanFeats[i][1] = np.mean(genre)\n",
    "    meanFeats[i][2] = np.var(genre)\n",
    "    i = i+1"
   ]
  },
  {
   "cell_type": "code",
   "execution_count": 72,
   "metadata": {
    "collapsed": false
   },
   "outputs": [
    {
     "data": {
      "text/plain": [
       "array([[  0.00000000e+00,   9.95155549e+01,   1.73324738e+03],\n",
       "       [  1.00000000e+00,   6.55395298e+01,   1.56795966e+03],\n",
       "       [  2.00000000e+00,   5.07176102e+01,   1.40487736e+03],\n",
       "       [  3.00000000e+00,   8.40824076e+01,   1.55589254e+03],\n",
       "       [  4.00000000e+00,   6.58094363e+01,   1.05261921e+03],\n",
       "       [  5.00000000e+00,   5.91434886e+01,   1.37415655e+03],\n",
       "       [  6.00000000e+00,   1.19275116e+02,   3.84802167e+03],\n",
       "       [  7.00000000e+00,   5.29205829e+01,   1.08077456e+03],\n",
       "       [  8.00000000e+00,   1.17992420e+02,   1.72564971e+03],\n",
       "       [  9.00000000e+00,   5.61200303e+01,   1.45751127e+03],\n",
       "       [  1.00000000e+01,   9.57606635e+01,   2.18153163e+03],\n",
       "       [  1.10000000e+01,   8.66889433e+01,   1.51446616e+03],\n",
       "       [  1.20000000e+01,   1.13132564e+02,   2.75064590e+03],\n",
       "       [  1.30000000e+01,   1.13540186e+02,   1.87636175e+03]])"
      ]
     },
     "execution_count": 72,
     "metadata": {},
     "output_type": "execute_result"
    }
   ],
   "source": [
    "meanFeats"
   ]
  },
  {
   "cell_type": "code",
   "execution_count": 79,
   "metadata": {
    "collapsed": false
   },
   "outputs": [],
   "source": [
    "normMeanFeats = meanFeats\n",
    "normMeanFeats[:,2] = (meanFeats[:,2]-min(meanFeats[:,2]))/(max(meanFeats[:,2])-min(meanFeats[:,2]))\n",
    "normMeanFeats[:,1] = (meanFeats[:,1]-min(meanFeats[:,1]))/(max(meanFeats[:,1])-min(meanFeats[:,1]))"
   ]
  },
  {
   "cell_type": "code",
   "execution_count": 102,
   "metadata": {
    "collapsed": false
   },
   "outputs": [
    {
     "data": {
      "text/plain": [
       "array([[  0.00000000e+00,   7.11781214e-01,   2.43481280e-01],\n",
       "       [  1.00000000e+00,   2.16196890e-01,   1.84352866e-01],\n",
       "       [  2.00000000e+00,   0.00000000e+00,   1.26013393e-01],\n",
       "       [  3.00000000e+00,   4.86668776e-01,   1.80036090e-01],\n",
       "       [  4.00000000e+00,   2.20133826e-01,   0.00000000e+00],\n",
       "       [  5.00000000e+00,   1.22902348e-01,   1.15023629e-01],\n",
       "       [  6.00000000e+00,   1.00000000e+00,   1.00000000e+00],\n",
       "       [  7.00000000e+00,   3.21332089e-02,   1.00720201e-02],\n",
       "       [  8.00000000e+00,   9.81290221e-01,   2.40763364e-01],\n",
       "       [  9.00000000e+00,   7.88012929e-02,   1.44842136e-01],\n",
       "       [  1.00000000e+01,   6.57011260e-01,   4.03846114e-01],\n",
       "       [  1.10000000e+01,   5.24688474e-01,   1.65216622e-01],\n",
       "       [  1.20000000e+01,   9.10402924e-01,   6.07435500e-01],\n",
       "       [  1.30000000e+01,   9.16348619e-01,   2.94677618e-01]])"
      ]
     },
     "execution_count": 102,
     "metadata": {},
     "output_type": "execute_result"
    }
   ],
   "source": [
    "normMeanFeats"
   ]
  },
  {
   "cell_type": "code",
   "execution_count": 144,
   "metadata": {
    "collapsed": false
   },
   "outputs": [
    {
     "data": {
      "text/plain": [
       "[<matplotlib.lines.Line2D at 0x948e2ccc>]"
      ]
     },
     "execution_count": 144,
     "metadata": {},
     "output_type": "execute_result"
    }
   ],
   "source": [
    "plt.plot(normMeanFeats[:,1],'o')\n",
    "plt.plot(normMeanFeats[:,2],'o')"
   ]
  },
  {
   "cell_type": "code",
   "execution_count": 145,
   "metadata": {
    "collapsed": false
   },
   "outputs": [],
   "source": [
    "plt.show()"
   ]
  },
  {
   "cell_type": "code",
   "execution_count": 103,
   "metadata": {
    "collapsed": false
   },
   "outputs": [],
   "source": [
    "from operator import itemgetter\n",
    "OrdNormMeanFeats = np.zeros((14,3))\n",
    "OrdNormMeanFeats = sorted(normMeanFeats,key=itemgetter(1))"
   ]
  },
  {
   "cell_type": "code",
   "execution_count": 150,
   "metadata": {
    "collapsed": false
   },
   "outputs": [
    {
     "data": {
      "text/plain": [
       "[array([ 2.        ,  0.        ,  0.12601339]),\n",
       " array([ 7.        ,  0.03213321,  0.01007202]),\n",
       " array([ 9.        ,  0.07880129,  0.14484214]),\n",
       " array([ 5.        ,  0.12290235,  0.11502363]),\n",
       " array([ 1.        ,  0.21619689,  0.18435287]),\n",
       " array([ 4.        ,  0.22013383,  0.        ]),\n",
       " array([ 3.        ,  0.48666878,  0.18003609]),\n",
       " array([ 11.        ,   0.52468847,   0.16521662]),\n",
       " array([ 10.        ,   0.65701126,   0.40384611]),\n",
       " array([ 0.        ,  0.71178121,  0.24348128]),\n",
       " array([ 12.        ,   0.91040292,   0.6074355 ]),\n",
       " array([ 13.        ,   0.91634862,   0.29467762]),\n",
       " array([ 8.        ,  0.98129022,  0.24076336]),\n",
       " array([ 6.,  1.,  1.])]"
      ]
     },
     "execution_count": 150,
     "metadata": {},
     "output_type": "execute_result"
    }
   ],
   "source": [
    "OrdNormMeanFeats"
   ]
  },
  {
   "cell_type": "code",
   "execution_count": 154,
   "metadata": {
    "collapsed": false
   },
   "outputs": [],
   "source": [
    "OrdNormMeanFeats2 = np.zeros((14,3))\n",
    "for i in range (0,14):\n",
    "    OrdNormMeanFeats2[i]=OrdNormMeanFeats[i]"
   ]
  },
  {
   "cell_type": "code",
   "execution_count": 155,
   "metadata": {
    "collapsed": false
   },
   "outputs": [
    {
     "data": {
      "text/plain": [
       "array([[  2.00000000e+00,   0.00000000e+00,   1.26013393e-01],\n",
       "       [  7.00000000e+00,   3.21332089e-02,   1.00720201e-02],\n",
       "       [  9.00000000e+00,   7.88012929e-02,   1.44842136e-01],\n",
       "       [  5.00000000e+00,   1.22902348e-01,   1.15023629e-01],\n",
       "       [  1.00000000e+00,   2.16196890e-01,   1.84352866e-01],\n",
       "       [  4.00000000e+00,   2.20133826e-01,   0.00000000e+00],\n",
       "       [  3.00000000e+00,   4.86668776e-01,   1.80036090e-01],\n",
       "       [  1.10000000e+01,   5.24688474e-01,   1.65216622e-01],\n",
       "       [  1.00000000e+01,   6.57011260e-01,   4.03846114e-01],\n",
       "       [  0.00000000e+00,   7.11781214e-01,   2.43481280e-01],\n",
       "       [  1.20000000e+01,   9.10402924e-01,   6.07435500e-01],\n",
       "       [  1.30000000e+01,   9.16348619e-01,   2.94677618e-01],\n",
       "       [  8.00000000e+00,   9.81290221e-01,   2.40763364e-01],\n",
       "       [  6.00000000e+00,   1.00000000e+00,   1.00000000e+00]])"
      ]
     },
     "execution_count": 155,
     "metadata": {},
     "output_type": "execute_result"
    }
   ],
   "source": [
    "OrdNormMeanFeats2"
   ]
  },
  {
   "cell_type": "code",
   "execution_count": 178,
   "metadata": {
    "collapsed": false
   },
   "outputs": [
    {
     "data": {
      "text/plain": [
       "[<matplotlib.lines.Line2D at 0x93fbf5cc>]"
      ]
     },
     "execution_count": 178,
     "metadata": {},
     "output_type": "execute_result"
    }
   ],
   "source": [
    "plt.plot(OrdNormMeanFeats2[:,1],'-')\n",
    "plt.plot(OrdNormMeanFeats2[:,1],'o')\n",
    "plt.plot(OrdNormMeanFeats2[:,2],'o')"
   ]
  },
  {
   "cell_type": "code",
   "execution_count": 179,
   "metadata": {
    "collapsed": true
   },
   "outputs": [],
   "source": [
    "plt.show()"
   ]
  },
  {
   "cell_type": "code",
   "execution_count": null,
   "metadata": {
    "collapsed": true
   },
   "outputs": [],
   "source": []
  },
  {
   "cell_type": "code",
   "execution_count": 180,
   "metadata": {
    "collapsed": true
   },
   "outputs": [],
   "source": []
  },
  {
   "cell_type": "code",
   "execution_count": null,
   "metadata": {
    "collapsed": true
   },
   "outputs": [],
   "source": []
  },
  {
   "cell_type": "code",
   "execution_count": null,
   "metadata": {
    "collapsed": true
   },
   "outputs": [],
   "source": []
  },
  {
   "cell_type": "code",
   "execution_count": 179,
   "metadata": {
    "collapsed": true
   },
   "outputs": [],
   "source": [
    "FeatAsian1 = np.zeros(len(Asian))\n",
    "FeatBlues1 = np.zeros(len(Blues))\n",
    "FeatClassical1 = np.zeros(len(Classical))\n",
    "FeatClatinamer1 = np.zeros(len(Clatinamer))\n",
    "FeatCountry1 = np.zeros(len(Country))\n",
    "FeatEasy1 = np.zeros(len(Easy))\n",
    "FeatElectronic1 = np.zeros(len(Electronic))\n",
    "FeatFolk1 = np.zeros(len(Folk))\n",
    "FeatHiphop1 = np.zeros(len(Hiphop))\n",
    "FeatJazz1 = np.zeros(len(Jazz))\n",
    "FeatPop1 = np.zeros(len(Pop))\n",
    "FeatRnb1 = np.zeros(len(Rnb))\n",
    "FeatRock1 = np.zeros(len(Rock))\n",
    "FeatSka1 = np.zeros(len(Ska))\n",
    "\n",
    "FeatAsian2 = np.zeros(len(Asian))\n",
    "FeatBlues2 = np.zeros(len(Blues))\n",
    "FeatClassical2 = np.zeros(len(Classical))\n",
    "FeatClatinamer2 = np.zeros(len(Clatinamer))\n",
    "FeatCountry2 = np.zeros(len(Country))\n",
    "FeatEasy2 = np.zeros(len(Easy))\n",
    "FeatElectronic2 = np.zeros(len(Electronic))\n",
    "FeatFolk2 = np.zeros(len(Folk))\n",
    "FeatHiphop2 = np.zeros(len(Hiphop))\n",
    "FeatJazz2 = np.zeros(len(Jazz))\n",
    "FeatPop2 = np.zeros(len(Pop))\n",
    "FeatRnb2 = np.zeros(len(Rnb))\n",
    "FeatRock2 = np.zeros(len(Rock))\n",
    "FeatSka2 = np.zeros(len(Ska))"
   ]
  },
  {
   "cell_type": "code",
   "execution_count": 180,
   "metadata": {
    "collapsed": false
   },
   "outputs": [],
   "source": [
    "numFeatA = 266\n",
    "for i in range(0,len(FeatAsian)):\n",
    "    FeatAsian1[i] = Asian[i][numFeatA]\n",
    "    FeatBlues1[i] = Blues[i][numFeatA]\n",
    "    FeatClassical1[i] = Classical[i][numFeatA]    \n",
    "    FeatClatinamer1[i] = Clatinamer[i][numFeatA]   \n",
    "    FeatCountry1[i] = Country[i][numFeatA]\n",
    "    FeatEasy1[i] = Easy[i][numFeatA]\n",
    "    FeatElectronic1[i] = Electronic[i][numFeatA]\n",
    "    FeatFolk1[i] = Folk[i][numFeatA]\n",
    "    FeatHiphop1[i] = Hiphop[i][numFeatA]\n",
    "    FeatJazz1[i] = Jazz[i][numFeatA]\n",
    "    FeatPop1[i] = Pop[i][numFeatA]\n",
    "    FeatRnb1[i] = Rnb[i][numFeatA]\n",
    "    FeatRock1[i] = Rock[i][numFeatA]\n",
    "    FeatSka1[i] = Ska[i][numFeatA]"
   ]
  },
  {
   "cell_type": "code",
   "execution_count": 181,
   "metadata": {
    "collapsed": true
   },
   "outputs": [],
   "source": [
    "numFeatB = 4\n",
    "for i in range(0,len(FeatAsian)):\n",
    "    FeatAsian2[i] = Asian[i][numFeatB]\n",
    "    FeatBlues2[i] = Blues[i][numFeatB]\n",
    "    FeatClassical2[i] = Classical[i][numFeatB]    \n",
    "    FeatClatinamer2[i] = Clatinamer[i][numFeatB]   \n",
    "    FeatCountry2[i] = Country[i][numFeatB]\n",
    "    FeatEasy2[i] = Easy[i][numFeatB]\n",
    "    FeatElectronic2[i] = Electronic[i][numFeatB]\n",
    "    FeatFolk2[i] = Folk[i][numFeatB]\n",
    "    FeatHiphop2[i] = Hiphop[i][numFeatB]\n",
    "    FeatJazz2[i] = Jazz[i][numFeatB]\n",
    "    FeatPop2[i] = Pop[i][numFeatB]\n",
    "    FeatRnb2[i] = Rnb[i][numFeatB]\n",
    "    FeatRock2[i] = Rock[i][numFeatB]\n",
    "    FeatSka2[i] = Ska[i][numFeatB]"
   ]
  },
  {
   "cell_type": "code",
   "execution_count": 207,
   "metadata": {
    "collapsed": true
   },
   "outputs": [],
   "source": [
    "ax = sns.kdeplot(FeatClassical1,FeatClassical2,cmap=\"Reds\", shade=True,shade_lowest=False)\n",
    "ax = sns.kdeplot(FeatHiphop1,FeatHiphop2,cmap=\"Blues\", shade=True,shade_lowest=False)\n",
    "ax = sns.kdeplot(FeatCountry1,FeatCountry2,cmap=\"Greens\", shade=True,shade_lowest=False)"
   ]
  },
  {
   "cell_type": "code",
   "execution_count": 208,
   "metadata": {
    "collapsed": true
   },
   "outputs": [],
   "source": [
    "plt.show()"
   ]
  },
  {
   "cell_type": "code",
   "execution_count": null,
   "metadata": {
    "collapsed": true
   },
   "outputs": [],
   "source": []
  }
 ],
 "metadata": {
  "kernelspec": {
   "display_name": "Python 2",
   "language": "python",
   "name": "python2"
  },
  "language_info": {
   "codemirror_mode": {
    "name": "ipython",
    "version": 2
   },
   "file_extension": ".py",
   "mimetype": "text/x-python",
   "name": "python",
   "nbconvert_exporter": "python",
   "pygments_lexer": "ipython2",
   "version": "2.7.6"
  }
 },
 "nbformat": 4,
 "nbformat_minor": 0
}
