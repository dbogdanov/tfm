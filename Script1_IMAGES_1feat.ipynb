{
 "cells": [
  {
   "cell_type": "code",
   "execution_count": 1,
   "metadata": {
    "collapsed": false
   },
   "outputs": [],
   "source": [
    "import scipy\n",
    "import numpy as np\n",
    "import matplotlib.pyplot as plt\n",
    "import essentia\n",
    "import json\n",
    "import glob\n",
    "import gzip\n",
    "import bz2\n",
    "import csv"
   ]
  },
  {
   "cell_type": "code",
   "execution_count": 2,
   "metadata": {
    "collapsed": false
   },
   "outputs": [],
   "source": [
    "import pandas as pd\n",
    "import seaborn as sns"
   ]
  },
  {
   "cell_type": "code",
   "execution_count": 3,
   "metadata": {
    "collapsed": true
   },
   "outputs": [],
   "source": [
    "import essentia.standard as estd\n",
    "import essentia.streaming as estr"
   ]
  },
  {
   "cell_type": "code",
   "execution_count": 4,
   "metadata": {
    "collapsed": false
   },
   "outputs": [],
   "source": [
    "json.data = []\n",
    "feat = []"
   ]
  },
  {
   "cell_type": "code",
   "execution_count": 5,
   "metadata": {
    "collapsed": false
   },
   "outputs": [
    {
     "data": {
      "text/plain": [
       "[]"
      ]
     },
     "execution_count": 5,
     "metadata": {},
     "output_type": "execute_result"
    }
   ],
   "source": [
    "feat"
   ]
  },
  {
   "cell_type": "code",
   "execution_count": 6,
   "metadata": {
    "collapsed": false
   },
   "outputs": [],
   "source": [
    "#def total_area_bz2('./acousticbrainz-2015-01-selected-features.csv.bz2'):\n",
    "#    with bz2.BZ2File('./acousticbrainz-2015-01-selected-features.csv.bz2') as f\n",
    "#        return sum_area(f)\n",
    "\n",
    "#input_file = bz2.BZ2File('./acousticbrainz-2015-01-selected-features.csv.bz2', 'rb')\n",
    "#try:\n",
    "#    print input_file.read()\n",
    "#finally:\n",
    "#    input_file.close()"
   ]
  },
  {
   "cell_type": "code",
   "execution_count": 7,
   "metadata": {
    "collapsed": false
   },
   "outputs": [],
   "source": [
    "#LOAD DESCRIPTORS DB\n",
    "\n",
    "#for filename in glob.glob('./testDB/*.json'):\n",
    "#    json.data.append(open(filename).read())\n",
    "\n",
    "with open(\"./testDB/last_fm.csv\", \"rb\") as f:\n",
    "    line=[line.split() for line in f]  "
   ]
  },
  {
   "cell_type": "code",
   "execution_count": 8,
   "metadata": {
    "collapsed": false
   },
   "outputs": [],
   "source": [
    "#CorLine = np.chararray(6301*348).reshape(6301, 348)\n"
   ]
  },
  {
   "cell_type": "code",
   "execution_count": 9,
   "metadata": {
    "collapsed": false
   },
   "outputs": [],
   "source": [
    "#for i in range (0,len(line)-1):\n",
    "#    CorLine[i] = str(line[i]).split(',')\n",
    "CorList = []\n",
    "\n",
    "for i in range (0,6301):\n",
    "    CorLine = []\n",
    "    CorLine.append(str(line[i]).split(','))\n",
    "    CorList.append(str(CorLine[0]).split(','))"
   ]
  },
  {
   "cell_type": "code",
   "execution_count": 10,
   "metadata": {
    "collapsed": false
   },
   "outputs": [
    {
     "data": {
      "text/plain": [
       "'12.87817478'"
      ]
     },
     "execution_count": 10,
     "metadata": {},
     "output_type": "execute_result"
    }
   ],
   "source": [
    "A =CorList[2][2][2:len(CorList[7][25])-1]\n",
    "A"
   ]
  },
  {
   "cell_type": "code",
   "execution_count": 92,
   "metadata": {
    "collapsed": false
   },
   "outputs": [],
   "source": [
    "AsianList = []\n",
    "BluesList = []\n",
    "ClassicalList = []\n",
    "ClatinamerList = []\n",
    "CountryList = []\n",
    "EasyList = []\n",
    "ElectronicList = []\n",
    "FolkList = []\n",
    "HiphopList = []\n",
    "JazzList = []\n",
    "PopList = []\n",
    "RnbList = []\n",
    "RockList = []\n",
    "SkaList = []\n",
    "\n",
    "\n",
    "for i in range(1,len(CorList)):\n",
    "    if str(CorList[i][1]).split(\"'\")[1] == 'asian':\n",
    "        for j in range (2,270):\n",
    "            AsianList.append(CorList[i][j][2:len(CorList[i][j])-1])\n",
    "    \n",
    "    if str(CorList[i][1]).split(\"'\")[1] == 'blues':\n",
    "        for j in range (2,270):\n",
    "            BluesList.append(CorList[i][j][2:len(CorList[i][j])-1])\n",
    "            \n",
    "    if str(CorList[i][1]).split(\"'\")[1] == 'classical':\n",
    "        for j in range (2,270):\n",
    "            ClassicalList.append(CorList[i][j][2:len(CorList[i][j])-1])\n",
    "    \n",
    "    if str(CorList[i][1]).split(\"'\")[1] == 'clatinamer':\n",
    "        for j in range (2,270):\n",
    "            ClatinamerList.append(CorList[i][j][2:len(CorList[i][j])-1])\n",
    "            \n",
    "    if str(CorList[i][1]).split(\"'\")[1] == 'country':\n",
    "        for j in range (2,270):\n",
    "            CountryList.append(CorList[i][j][2:len(CorList[i][j])-1])\n",
    "    \n",
    "    if str(CorList[i][1]).split(\"'\")[1] == 'easylistening':\n",
    "        for j in range (2,270):\n",
    "            EasyList.append(CorList[i][j][2:len(CorList[i][j])-1])\n",
    "            \n",
    "    if str(CorList[i][1]).split(\"'\")[1] == 'electronic':\n",
    "        for j in range (2,270):\n",
    "            ElectronicList.append(CorList[i][j][2:len(CorList[i][j])-1])\n",
    "    \n",
    "    if str(CorList[i][1]).split(\"'\")[1] == 'folk':\n",
    "        for j in range (2,270):\n",
    "            FolkList.append(CorList[i][j][2:len(CorList[i][j])-1])\n",
    "            \n",
    "    if str(CorList[i][1]).split(\"'\")[1] == 'hiphop':\n",
    "        for j in range (2,270):\n",
    "            HiphopList.append(CorList[i][j][2:len(CorList[i][j])-1])\n",
    "    \n",
    "    if str(CorList[i][1]).split(\"'\")[1] == 'jazz':\n",
    "        for j in range (2,270):\n",
    "            JazzList.append(CorList[i][j][2:len(CorList[i][j])-1])\n",
    "            \n",
    "    if str(CorList[i][1]).split(\"'\")[1] == 'pop':\n",
    "        for j in range (2,270):\n",
    "            PopList.append(CorList[i][j][2:len(CorList[i][j])-1])\n",
    "    \n",
    "    if str(CorList[i][1]).split(\"'\")[1] == 'rnb':\n",
    "        for j in range (2,270):\n",
    "            RnbList.append(CorList[i][j][2:len(CorList[i][j])-1])\n",
    "            \n",
    "    if str(CorList[i][1]).split(\"'\")[1] == 'rock':\n",
    "        for j in range (2,270):\n",
    "            RockList.append(CorList[i][j][2:len(CorList[i][j])-1])\n",
    "    \n",
    "    if str(CorList[i][1]).split(\"'\")[1] == 'ska':\n",
    "        for j in range (2,270):\n",
    "            SkaList.append(CorList[i][j][2:len(CorList[i][j])-1])\n"
   ]
  },
  {
   "cell_type": "code",
   "execution_count": 93,
   "metadata": {
    "collapsed": false
   },
   "outputs": [
    {
     "data": {
      "text/plain": [
       "120600"
      ]
     },
     "execution_count": 93,
     "metadata": {},
     "output_type": "execute_result"
    }
   ],
   "source": [
    "len(SkaList)"
   ]
  },
  {
   "cell_type": "code",
   "execution_count": 94,
   "metadata": {
    "collapsed": false
   },
   "outputs": [
    {
     "data": {
      "text/plain": [
       "120600"
      ]
     },
     "execution_count": 94,
     "metadata": {},
     "output_type": "execute_result"
    }
   ],
   "source": [
    "len(AsianList)"
   ]
  },
  {
   "cell_type": "code",
   "execution_count": 95,
   "metadata": {
    "collapsed": false
   },
   "outputs": [],
   "source": [
    "Asian = np.zeros([450,268])\n",
    "Blues = np.zeros([450,268])\n",
    "Classical = np.zeros([450,268])\n",
    "Clatinamer = np.zeros([450,268])\n",
    "Country =  np.zeros([450,268])\n",
    "Easy = np.zeros([450,268])\n",
    "Electronic = np.zeros([450,268])\n",
    "Folk = np.zeros([450,268])\n",
    "Hiphop = np.zeros([450,268])\n",
    "Jazz = np.zeros([450,268])\n",
    "Pop = np.zeros([450,268])\n",
    "Rnb = np.zeros([450,268])\n",
    "Rock = np.zeros([450,268])\n",
    "Ska = np.zeros([450,268])\n"
   ]
  },
  {
   "cell_type": "code",
   "execution_count": 96,
   "metadata": {
    "collapsed": false
   },
   "outputs": [],
   "source": [
    "k = 0\n",
    "for i in range (0,450):\n",
    "    for j in range (0,268):\n",
    "        Asian[i][j] = AsianList[k]\n",
    "        Blues[i][j] = BluesList[k]\n",
    "        Classical[i][j] = ClassicalList[k]\n",
    "        Clatinamer[i][j] = ClatinamerList[k]\n",
    "        Country[i][j] = CountryList[k]\n",
    "        Easy[i][j] = EasyList[k]\n",
    "        Electronic[i][j] = ElectronicList[k]\n",
    "        Folk[i][j] = FolkList[k]\n",
    "        Hiphop[i][j] = HiphopList[k]\n",
    "        Jazz[i][j] = JazzList[k]\n",
    "        Pop[i][j] = PopList[k]\n",
    "        Rnb[i][j] = RnbList[k]\n",
    "        Rock[i][j] = RockList[k]\n",
    "        Ska[i][j] = SkaList[k]\n",
    "        k = k+1\n",
    "    "
   ]
  },
  {
   "cell_type": "code",
   "execution_count": 97,
   "metadata": {
    "collapsed": false
   },
   "outputs": [
    {
     "data": {
      "text/plain": [
       "9.5537738799999996"
      ]
     },
     "execution_count": 97,
     "metadata": {},
     "output_type": "execute_result"
    }
   ],
   "source": [
    "Asian[0][266]"
   ]
  },
  {
   "cell_type": "code",
   "execution_count": 98,
   "metadata": {
    "collapsed": false
   },
   "outputs": [],
   "source": [
    "FeatAsian = np.zeros(len(Asian))\n",
    "FeatBlues = np.zeros(len(Blues))\n",
    "FeatClassical = np.zeros(len(Classical))\n",
    "FeatClatinamer = np.zeros(len(Clatinamer))\n",
    "FeatCountry = np.zeros(len(Country))\n",
    "FeatEasy = np.zeros(len(Easy))\n",
    "FeatElectronic = np.zeros(len(Electronic))\n",
    "FeatFolk = np.zeros(len(Folk))\n",
    "FeatHiphop = np.zeros(len(Hiphop))\n",
    "FeatJazz = np.zeros(len(Jazz))\n",
    "FeatPop = np.zeros(len(Pop))\n",
    "FeatRnb = np.zeros(len(Rnb))\n",
    "FeatRock = np.zeros(len(Rock))\n",
    "FeatSka = np.zeros(len(Ska))"
   ]
  },
  {
   "cell_type": "code",
   "execution_count": 100,
   "metadata": {
    "collapsed": false
   },
   "outputs": [],
   "source": [
    "mkdir IMAGES"
   ]
  },
  {
   "cell_type": "code",
   "execution_count": 101,
   "metadata": {
    "collapsed": false
   },
   "outputs": [],
   "source": [
    "import os\n",
    "def namestr(obj, namespace):\n",
    "    return [name for name in namespace if namespace[name] is obj]\n",
    "for numFeat in [4,266]:\n",
    "    for i in range(0,len(FeatAsian)):\n",
    "        FeatAsian[i] = Asian[i][numFeat]\n",
    "        FeatBlues[i] = Blues[i][numFeat]\n",
    "        FeatClassical[i] = Classical[i][numFeat]    \n",
    "        FeatClatinamer[i] = Clatinamer[i][numFeat]   \n",
    "        FeatCountry[i] = Country[i][numFeat]\n",
    "        FeatEasy[i] = Easy[i][numFeat]\n",
    "        FeatElectronic[i] = Electronic[i][numFeat]\n",
    "        FeatFolk[i] = Folk[i][numFeat]\n",
    "        FeatHiphop[i] = Hiphop[i][numFeat]\n",
    "        FeatJazz[i] = Jazz[i][numFeat]\n",
    "        FeatPop[i] = Pop[i][numFeat]\n",
    "        FeatRnb[i] = Rnb[i][numFeat]\n",
    "        FeatRock[i] = Rock[i][numFeat]\n",
    "        FeatSka[i] = Ska[i][numFeat]\n",
    "        \n",
    "    sns.distplot(FeatAsian) #b\n",
    "    sns.distplot(FeatBlues) #g\n",
    "    sns.distplot(FeatClassical) #r\n",
    "    sns.distplot(FeatClatinamer) #p\n",
    "    sns.distplot(FeatCountry) #y\n",
    "    sns.distplot(FeatEasy) #c\n",
    "    sns.distplot(FeatElectronic) #b\n",
    "    sns.distplot(FeatFolk) #g\n",
    "    sns.distplot(FeatHiphop) #r\n",
    "    sns.distplot(FeatJazz) #p\n",
    "    sns.distplot(FeatPop) #y\n",
    "    sns.distplot(FeatRnb) #c\n",
    "    sns.distplot(FeatRock) #b\n",
    "    sns.distplot(FeatSka) #g\n",
    "    s = \"%s_all.png\" %str(CorList[0][numFeat])[11:]\n",
    "    s = os.path.join(\"/home/pedro/TFM/IMAGES\", s)\n",
    "    #plt.savefig('%s.png' % s)\n",
    "    plt.savefig(s)\n",
    "    plt.clf()\n",
    "    \n",
    "    for genre1 in [FeatAsian,FeatBlues,FeatClassical,FeatClatinamer,FeatCountry,FeatEasy,FeatElectronic,FeatFolk,FeatHiphop,FeatJazz,FeatPop,FeatRnb,FeatRock,FeatSka]:\n",
    "        for genre2 in [FeatAsian,FeatBlues,FeatClassical,FeatClatinamer,FeatCountry,FeatEasy,FeatElectronic,FeatFolk,FeatHiphop,FeatJazz,FeatPop,FeatRnb,FeatRock,FeatSka]:\n",
    "            sns.distplot(genre1)\n",
    "            sns.distplot(genre2)\n",
    "            s = \"%(t)s_%(x)s_%(y)s.png\" % {\"t\" : str(CorList[0][numFeat])[11:] , \"x\" : namestr(genre1,globals())[0][4:], \"y\" : namestr(genre2,globals())[0][4:]}\n",
    "            s = os.path.join(\"/home/pedro/TFM/IMAGES\", s)\n",
    "            #plt.savefig('%s.png' % s)\n",
    "            plt.savefig(s)\n",
    "            plt.clf()"
   ]
  },
  {
   "cell_type": "code",
   "execution_count": 79,
   "metadata": {
    "collapsed": true
   },
   "outputs": [],
   "source": [
    "plt.show()"
   ]
  },
  {
   "cell_type": "code",
   "execution_count": null,
   "metadata": {
    "collapsed": true
   },
   "outputs": [],
   "source": [
    "plt.clf()"
   ]
  },
  {
   "cell_type": "code",
   "execution_count": 54,
   "metadata": {
    "collapsed": false
   },
   "outputs": [
    {
     "data": {
      "text/plain": [
       "\"barkbands_crest.dmean'\""
      ]
     },
     "execution_count": 54,
     "metadata": {},
     "output_type": "execute_result"
    }
   ],
   "source": [
    "str(CorList[0][266])[11:]"
   ]
  },
  {
   "cell_type": "code",
   "execution_count": 57,
   "metadata": {
    "collapsed": false
   },
   "outputs": [
    {
     "data": {
      "text/plain": [
       "\"spectral_complexity.dmean2'\""
      ]
     },
     "execution_count": 57,
     "metadata": {},
     "output_type": "execute_result"
    }
   ],
   "source": [
    "str(CorList[0][4])[11:]"
   ]
  },
  {
   "cell_type": "code",
   "execution_count": null,
   "metadata": {
    "collapsed": true
   },
   "outputs": [],
   "source": []
  }
 ],
 "metadata": {
  "kernelspec": {
   "display_name": "Python 2",
   "language": "python",
   "name": "python2"
  },
  "language_info": {
   "codemirror_mode": {
    "name": "ipython",
    "version": 2
   },
   "file_extension": ".py",
   "mimetype": "text/x-python",
   "name": "python",
   "nbconvert_exporter": "python",
   "pygments_lexer": "ipython2",
   "version": "2.7.6"
  }
 },
 "nbformat": 4,
 "nbformat_minor": 0
}
